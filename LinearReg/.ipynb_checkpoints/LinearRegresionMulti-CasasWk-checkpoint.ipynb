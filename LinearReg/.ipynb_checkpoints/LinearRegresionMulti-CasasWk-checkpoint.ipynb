{
 "cells": [
  {
   "cell_type": "code",
   "execution_count": 1,
   "metadata": {},
   "outputs": [],
   "source": [
    "import pandas as pd\n",
    "import numpy as np\n",
    "import matplotlib.pyplot as plt\n",
    "\n",
    "pd.set_option('display.notebook_repr_html', False)\n",
    "pd.set_option('display.max_columns', None)\n",
    "pd.set_option('display.max_rows', 150)\n",
    "pd.set_option('display.max_seq_items', None)\n",
    " \n",
    "%matplotlib inline  \n"
   ]
  },
  {
   "cell_type": "code",
   "execution_count": 24,
   "metadata": {},
   "outputs": [],
   "source": [
    "data = np.loadtxt('CasasMulti.txt')\n",
    "X = np.c_[np.ones(data.shape[0]),data[:,0], data[:,1],data[:,2], data[:,3]]\n",
    "y = np.c_[data[:,1]]\n",
    "#------------------------------------\n",
    "#Adicione su código\n",
    "#Objetivo: - separar la data en X = Training Set y y = targets\n",
    "#          - Insertar una columna de 1's en X\n",
    "\n",
    "#-------------------------------------\n",
    "\n"
   ]
  },
  {
   "cell_type": "code",
   "execution_count": 39,
   "metadata": {},
   "outputs": [],
   "source": [
    "#----------------------------------\n",
    "#Adiciones su código\n",
    "#Objetivo: Definir la función de normalización de características\n",
    "\n",
    "def featureNormalize(X):\n",
    "    mu = np.mean(X,axis=0)\n",
    "    sigma = X.std(0)\n",
    "    \n",
    "    X_norm = X - mu;\n",
    "#     np.divide(X_norm, sigma)\n",
    "    \n",
    "    return (X_norm, mu, sigma)\n",
    "#-----------------------------------"
   ]
  },
  {
   "cell_type": "code",
   "execution_count": 40,
   "metadata": {},
   "outputs": [
    {
     "name": "stderr",
     "output_type": "stream",
     "text": [
      "/Users/joca/anaconda/lib/python2.7/site-packages/ipykernel_launcher.py:10: RuntimeWarning: invalid value encountered in divide\n",
      "  # Remove the CWD from sys.path while we load stuff.\n"
     ]
    }
   ],
   "source": [
    "X, mu, sigma = featureNormalize(X)"
   ]
  },
  {
   "cell_type": "code",
   "execution_count": 58,
   "metadata": {
    "collapsed": true
   },
   "outputs": [],
   "source": [
    "#----------------------------------\n",
    "#Adiciones su código\n",
    "#Objetivo: Definir la función de Costo Multiples variables\n",
    "def computeCostMulti(X, y, theta):\n",
    "    \n",
    "    \n",
    "    return(J)\n",
    "#--------------------------------------"
   ]
  },
  {
   "cell_type": "code",
   "execution_count": 63,
   "metadata": {
    "collapsed": true
   },
   "outputs": [],
   "source": [
    "#----------------------------------\n",
    "#Adiciones su código\n",
    "#Objetivo: Definir la función Gradiente descendente para múltiples variables\n",
    "def gradientDescentMulti(X, y, theta, alpha, num_iters):\n",
    "    \n",
    "    \n",
    "    return(theta, J_history)\n",
    "#----------------------------------"
   ]
  },
  {
   "cell_type": "code",
   "execution_count": 67,
   "metadata": {},
   "outputs": [],
   "source": [
    "#Elige los parámetros de alfa e iteraciones\n",
    "alpha = 0.01\n",
    "num_iters = 400\n",
    "#Inicializa vector theta con ceros\n",
    "theta = np.zeros((nvars,1))\n",
    "#Llamado a la función gradiente descendente para múltiples variables\n",
    "theta, J_history = gradientDescentMulti(X, y, theta, alpha, num_iters)"
   ]
  },
  {
   "cell_type": "code",
   "execution_count": 68,
   "metadata": {},
   "outputs": [
    {
     "name": "stdout",
     "output_type": "stream",
     "text": [
      "('theta: ', array([ 421694.06425014,  151968.32635208,  -25291.21036838,\n",
      "         51043.85168532,   71449.37297946]))\n"
     ]
    },
    {
     "data": {
      "image/png": "[encoded data removed]",
      "text/plain": [
       "<matplotlib.figure.Figure at 0x1046d1290>"
      ]
     },
     "metadata": {},
     "output_type": "display_data"
    }
   ],
   "source": [
    "# vector theta para el mínimo costo J\n",
    "print('theta: ',theta.ravel())\n",
    "\n",
    "#Ploteo del historial de J\n",
    "plt.plot(J_history)\n",
    "plt.ylabel('Costo J')\n",
    "plt.xlabel('Iteraciones');"
   ]
  },
  {
   "cell_type": "code",
   "execution_count": 82,
   "metadata": {},
   "outputs": [
    {
     "data": {
      "text/plain": [
       "array([ 577610.99906206])"
      ]
     },
     "execution_count": 82,
     "metadata": {},
     "output_type": "execute_result"
    }
   ],
   "source": [
    "#estimar el precio para una casa de: 200 m2, 4 baños, 5 dormitorios y $110xm2\n",
    "\n",
    "sample=np.ones(5)\n",
    "sample[1] = sample[1]*((200-mu[1])/sigma[1])\n",
    "sample[2] = sample[2]*((4-mu[2])/sigma[2])\n",
    "sample[3] = sample[3]*((5-mu[3])/sigma[3])\n",
    "sample[4] = sample[4]*((110-mu[4])/sigma[4])\n",
    "sample.dot(theta)"
   ]
  },
  {
   "cell_type": "code",
   "execution_count": 83,
   "metadata": {},
   "outputs": [
    {
     "data": {
      "text/plain": [
       "array([ 1.        , -0.04956805,  0.55826587,  1.5997911 ,  1.34234108])"
      ]
     },
     "execution_count": 83,
     "metadata": {},
     "output_type": "execute_result"
    }
   ],
   "source": [
    "# Registro de ejemplo normalizado\n",
    "sample"
   ]
  },
  {
   "cell_type": "code",
   "execution_count": 95,
   "metadata": {
    "collapsed": true
   },
   "outputs": [],
   "source": [
    "#----------------------------------\n",
    "#Adiciones su código\n",
    "#Objetivo: Definir la función de Ecuación Normal\n",
    "def normalEqn(X,y):\n",
    "    \n",
    "    \n",
    "    \n",
    "    return theta\n",
    "#-----------------------------------"
   ]
  },
  {
   "cell_type": "code",
   "execution_count": 96,
   "metadata": {},
   "outputs": [],
   "source": [
    "# Resolviendo el problema con la Ecuación Normal\n",
    "X = np.c_[np.ones(data.shape[0]),data[:,0:4]]\n",
    "theta = normalEqn(X,y)\n"
   ]
  },
  {
   "cell_type": "code",
   "execution_count": 97,
   "metadata": {},
   "outputs": [
    {
     "data": {
      "text/plain": [
       "array([ 400482.89092806])"
      ]
     },
     "execution_count": 97,
     "metadata": {},
     "output_type": "execute_result"
    }
   ],
   "source": [
    "sample=np.ones(5)\n",
    "sample[1] = sample[1]*200\n",
    "sample[2] = sample[2]*4\n",
    "sample[3] = sample[3]*5\n",
    "sample[4] = sample[4]*110\n",
    "sample.dot(theta)"
   ]
  },
  {
   "cell_type": "code",
   "execution_count": 94,
   "metadata": {},
   "outputs": [
    {
     "data": {
      "text/plain": [
       "array([[ 85545.80823125],\n",
       "       [  2449.26277778],\n",
       "       [-66328.49083391],\n",
       "       [  7336.76959031],\n",
       "       [   488.31493204]])"
      ]
     },
     "execution_count": 94,
     "metadata": {},
     "output_type": "execute_result"
    }
   ],
   "source": [
    "theta"
   ]
  },
  {
   "cell_type": "code",
   "execution_count": null,
   "metadata": {
    "collapsed": true
   },
   "outputs": [],
   "source": []
  }
 ],
 "metadata": {
  "anaconda-cloud": {},
  "kernelspec": {
   "display_name": "Python 2",
   "language": "python",
   "name": "python2"
  },
  "language_info": {
   "codemirror_mode": {
    "name": "ipython",
    "version": 2
   },
   "file_extension": ".py",
   "mimetype": "text/x-python",
   "name": "python",
   "nbconvert_exporter": "python",
   "pygments_lexer": "ipython2",
   "version": "2.7.13"
  }
 },
 "nbformat": 4,
 "nbformat_minor": 1
}
