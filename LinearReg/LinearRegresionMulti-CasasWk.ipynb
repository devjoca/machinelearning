{
 "cells": [
  {
   "cell_type": "code",
   "execution_count": 96,
   "metadata": {
    "collapsed": true
   },
   "outputs": [],
   "source": [
    "import pandas as pd\n",
    "import numpy as np\n",
    "import matplotlib.pyplot as plt\n",
    "\n",
    "pd.set_option('display.notebook_repr_html', False)\n",
    "pd.set_option('display.max_columns', None)\n",
    "pd.set_option('display.max_rows', 150)\n",
    "pd.set_option('display.max_seq_items', None)\n",
    " \n",
    "%matplotlib inline  \n"
   ]
  },
  {
   "cell_type": "code",
   "execution_count": 97,
   "metadata": {},
   "outputs": [],
   "source": [
    "data = np.loadtxt('CasasMulti.txt')\n",
    "X = np.c_[np.ones(data.shape[0]),data[:,0], data[:,1],data[:,2], data[:,3]]\n",
    "y = np.c_[data[:,4]]\n",
    "#------------------------------------\n",
    "#Adicione su código\n",
    "#Objetivo: - separar la data en X = Training Set y y = targets\n",
    "#          - Insertar una columna de 1's en X\n",
    "\n",
    "#-------------------------------------\n",
    "\n"
   ]
  },
  {
   "cell_type": "code",
   "execution_count": 99,
   "metadata": {
    "collapsed": true
   },
   "outputs": [],
   "source": [
    "#----------------------------------\n",
    "#Adiciones su código\n",
    "#Objetivo: Definir la función de normalización de características\n",
    "def featureNormalize(X):\n",
    "    mu = np.mean(X,axis=0)\n",
    "    sigma = X.max(axis=0) - X.min(axis=0)\n",
    "#     sigma = X.std(0)\n",
    "    sigma[sigma == 0] = 1\n",
    "    X_norm = X - mu;\n",
    "    X_norm = np.divide(X_norm, sigma)\n",
    "    X_norm[:, 0] =  1\n",
    "    return (X_norm, mu, sigma)\n",
    "#-----------------------------------"
   ]
  },
  {
   "cell_type": "code",
   "execution_count": 100,
   "metadata": {},
   "outputs": [],
   "source": [
    "X, mu, sigma = featureNormalize(X)"
   ]
  },
  {
   "cell_type": "code",
   "execution_count": 122,
   "metadata": {},
   "outputs": [
    {
     "name": "stdout",
     "output_type": "stream",
     "text": [
      "4.06227989689e+14\n"
     ]
    },
    {
     "data": {
      "text/plain": [
       "120757428563.79311"
      ]
     },
     "execution_count": 122,
     "metadata": {},
     "output_type": "execute_result"
    }
   ],
   "source": [
    "#----------------------------------\n",
    "#Adiciones su código\n",
    "#Objetivo: Definir la función de Costo Multiples variables\n",
    "def computeCostMulti(X, y, theta):\n",
    "    m = y.size\n",
    "    J = 0\n",
    "    \n",
    "    h = X.dot(theta)\n",
    "    J = np.sum(np.square(h-y))/(2*m)\n",
    "    print np.sum(np.square(h-y)/2*m)\n",
    "    return(J)\n",
    "#--------------------------------------\n",
    "\n",
    "computeCostMulti(X, y, np.zeros((5,1)))"
   ]
  },
  {
   "cell_type": "code",
   "execution_count": null,
   "metadata": {
    "collapsed": true
   },
   "outputs": [],
   "source": []
  },
  {
   "cell_type": "code",
   "execution_count": 107,
   "metadata": {
    "collapsed": true
   },
   "outputs": [],
   "source": [
    "#----------------------------------\n",
    "#Adiciones su código\n",
    "#Objetivo: Definir la función Gradiente descendente para múltiples variables\n",
    "def gradientDescentMulti(X, y, theta, alpha, num_iters):\n",
    "    m = y.size\n",
    "    J_history = np.zeros(num_iters)\n",
    "\n",
    "    for iter in np.arange(num_iters):\n",
    "        h = X.dot(theta)\n",
    "        theta = theta - (alpha*(X.T.dot(h-y)))/m\n",
    "        J_history[iter] = computeCostMulti(X, y, theta)\n",
    "        \n",
    "    return(theta, J_history)\n",
    "#----------------------------------\n"
   ]
  },
  {
   "cell_type": "code",
   "execution_count": 108,
   "metadata": {},
   "outputs": [],
   "source": [
    "#Elige los parámetros de alfa e iteraciones\n",
    "alpha = 0.01\n",
    "num_iters = 400\n",
    "#Inicializa vector theta con ceros\n",
    "nvars = 5\n",
    "theta = np.zeros((nvars,1))\n",
    "#Llamado a la función gradiente descendente para múltiples variables\n",
    "theta, J_history = gradientDescentMulti(X, y, theta, alpha, num_iters) "
   ]
  },
  {
   "cell_type": "code",
   "execution_count": 109,
   "metadata": {},
   "outputs": [
    {
     "name": "stdout",
     "output_type": "stream",
     "text": [
      "('theta: ', array([ 421694.06425014,  174522.48705461,   58701.06367643,\n",
      "         65476.64348648,  106528.47845904]))\n"
     ]
    },
    {
     "data": {
      "image/png": "[encoded data removed]",
      "text/plain": [
       "<matplotlib.figure.Figure at 0x118588f90>"
      ]
     },
     "metadata": {},
     "output_type": "display_data"
    }
   ],
   "source": [
    "# vector theta para el mínimo costo J\n",
    "print('theta: ',theta.ravel())\n",
    "\n",
    "#Ploteo del historial de J\n",
    "plt.plot(J_history)\n",
    "plt.ylabel('Costo J')\n",
    "plt.xlabel('Iteraciones');"
   ]
  },
  {
   "cell_type": "code",
   "execution_count": 81,
   "metadata": {},
   "outputs": [
    {
     "data": {
      "text/plain": [
       "array([ 474377.00864792])"
      ]
     },
     "execution_count": 81,
     "metadata": {},
     "output_type": "execute_result"
    }
   ],
   "source": [
    "#estimar el precio para una casa de: 200 m2, 4 baños, 5 dormitorios y $110xm2\n",
    "\n",
    "sample=np.ones(5)\n",
    "sample[1] = sample[1]*((200-mu[1])/sigma[1])\n",
    "sample[2] = sample[2]*((4-mu[2])/sigma[2])\n",
    "sample[3] = sample[3]*((5-mu[3])/sigma[3])\n",
    "sample[4] = sample[4]*((110-mu[4])/sigma[4])\n",
    "sample.dot(theta)"
   ]
  },
  {
   "cell_type": "code",
   "execution_count": 79,
   "metadata": {},
   "outputs": [
    {
     "data": {
      "text/plain": [
       "array([ 1.        , -0.01186608,  0.08045977,  0.23275862,  0.32658417])"
      ]
     },
     "execution_count": 79,
     "metadata": {},
     "output_type": "execute_result"
    }
   ],
   "source": [
    "# Registro de ejemplo normalizado\n",
    "sample"
   ]
  },
  {
   "cell_type": "code",
   "execution_count": 87,
   "metadata": {},
   "outputs": [],
   "source": [
    "#----------------------------------\n",
    "#Adiciones su código\n",
    "#Objetivo: Definir la función de Ecuación Normal\n",
    "def normalEqn(X,y):\n",
    "    \n",
    "    XtX = np.linalg.inv(X.T.dot(X))\n",
    "    XtX = XtX.dot(X.T)\n",
    "    theta = XtX.dot(y)\n",
    "    return theta\n",
    "#-----------------------------------"
   ]
  },
  {
   "cell_type": "code",
   "execution_count": 88,
   "metadata": {},
   "outputs": [
    {
     "name": "stdout",
     "output_type": "stream",
     "text": [
      "[[ 85545.80823211]\n",
      " [  2449.26277779]\n",
      " [-66328.49083389]\n",
      " [  7336.76959008]\n",
      " [   488.31493203]]\n"
     ]
    }
   ],
   "source": [
    "# Resolviendo el problema con la Ecuación Normal\n",
    "X = np.c_[np.ones(data.shape[0]),data[:,0:4]]\n",
    "theta = normalEqn(X,y)\n",
    "print theta"
   ]
  },
  {
   "cell_type": "code",
   "execution_count": 92,
   "metadata": {},
   "outputs": [
    {
     "data": {
      "text/plain": [
       "array([ 400482.89092717])"
      ]
     },
     "execution_count": 92,
     "metadata": {},
     "output_type": "execute_result"
    }
   ],
   "source": [
    "sample=np.ones(5)\n",
    "sample[1] = sample[1]*200\n",
    "sample[2] = sample[2]*4\n",
    "sample[3] = sample[3]*5\n",
    "sample[4] = sample[4]*110\n",
    "sample.dot(theta)"
   ]
  },
  {
   "cell_type": "code",
   "execution_count": 91,
   "metadata": {},
   "outputs": [
    {
     "data": {
      "text/plain": [
       "array([[ 85545.80823211],\n",
       "       [  2449.26277779],\n",
       "       [-66328.49083389],\n",
       "       [  7336.76959008],\n",
       "       [   488.31493203]])"
      ]
     },
     "execution_count": 91,
     "metadata": {},
     "output_type": "execute_result"
    }
   ],
   "source": [
    "theta"
   ]
  },
  {
   "cell_type": "code",
   "execution_count": null,
   "metadata": {
    "collapsed": true
   },
   "outputs": [],
   "source": []
  }
 ],
 "metadata": {
  "anaconda-cloud": {},
  "kernelspec": {
   "display_name": "Python 2",
   "language": "python",
   "name": "python2"
  },
  "language_info": {
   "codemirror_mode": {
    "name": "ipython",
    "version": 2
   },
   "file_extension": ".py",
   "mimetype": "text/x-python",
   "name": "python",
   "nbconvert_exporter": "python",
   "pygments_lexer": "ipython2",
   "version": "2.7.13"
  }
 },
 "nbformat": 4,
 "nbformat_minor": 1
}
